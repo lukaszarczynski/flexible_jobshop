{
 "cells": [
  {
   "cell_type": "code",
   "execution_count": 1,
   "metadata": {
    "collapsed": true
   },
   "outputs": [],
   "source": [
    "from parsing import load_problem, load_solution\n",
    "from graph_representation import Graph\n",
    "import time"
   ]
  },
  {
   "cell_type": "code",
   "execution_count": 2,
   "metadata": {
    "collapsed": false
   },
   "outputs": [],
   "source": [
    "# weryfikuje poprawność sortowania\n",
    "def verify_toposort(T, G):\n",
    "    for i in xrange(len(T)):\n",
    "        v = T[i]\n",
    "        for s in G.graph[v].successors:\n",
    "            s = (v[0] + s[0],) + s[1:]\n",
    "            if s in T[:i]:\n",
    "                return False\n",
    "    return True"
   ]
  },
  {
   "cell_type": "code",
   "execution_count": 3,
   "metadata": {
    "collapsed": true
   },
   "outputs": [],
   "source": [
    "def longest_path(T, G, v1, v2, justH1=False):\n",
    "    if v1 not in G.graph or v2 not in G.graph:\n",
    "        return None\n",
    "    temp_longest = {v1 : G.graph[v1].weight}\n",
    "    \n",
    "    print G.graph[v1].weight\n",
    "    \n",
    "    if v1 == v2:\n",
    "        return temp_longest[v1]\n",
    "    \n",
    "    for v in T[T.index(v1)+1:]:\n",
    "        if (not justH1) or v[0] == 0:\n",
    "            print v\n",
    "            preds = [p for p in G.graph[v].predecessors if p in temp_longest]\n",
    "            print preds\n",
    "            if preds:\n",
    "                best_pred = max(preds, key=lambda p: temp_longest[p] + G.graph[p].weight)\n",
    "                print best_pred\n",
    "                temp_longest[v] = temp_longest[best_pred] + G.graph[best_pred].weight\n",
    "            if v == v2:\n",
    "                if v2 in temp_longest:\n",
    "                    return temp_longest[v2]\n",
    "                return None"
   ]
  },
  {
   "cell_type": "code",
   "execution_count": 4,
   "metadata": {
    "collapsed": false
   },
   "outputs": [],
   "source": [
    "# m_from, m_to - skąd zabieramy, gdzie wsadzamy\n",
    "# op - zabierana operacja, para (nr_maszyny, nr_operacji)\n",
    "# pos - pozycja do wsadzenia op na maszynę m_to\n",
    "\n",
    "# tutaj numery maszyn idą od 0\n",
    "def lower_bound(G, m_from, op, m_to, pos):\n",
    "    def alpha(k,i):\n",
    "        assert i >= 0\n",
    "        if k != m_from or solution[k].index(op) > i:\n",
    "            return G.solution[k][i]\n",
    "        return G.solution[k][i+1]\n",
    "    \n",
    "    # jeśli longest_path nie istnieje, to powinien zwrócić None\n",
    "    # te drogi poniżej są zawarte w H1 (pierwszej składowej G), więc\n",
    "    # można by je liczyć trochę szybciej (tylko w H1)\n",
    "    \n",
    "    def R(k,opr):\n",
    "        return G.longest_path((0,) + alpha(k,0), (0,) + opr, justH1=True)\n",
    "    \n",
    "    def Q(k,opr):\n",
    "        return G.longest_path((0,) + opr, (0,) + alpha(k, len(G.solution[k])-1), justH1=True)\n",
    "\n",
    "    def LB(l):\n",
    "        op_old_weight = G.graph[(0,) + op].weight\n",
    "        op_new_weight = G.problem[op[0]-1][op[1]-1][m_to]\n",
    "        \n",
    "        R1 = lambda: R(l, alpha(m_to, pos-1))\n",
    "        R2 = lambda: R(l, op) - op_old_weight\n",
    "        Q1 = lambda: Q(l, alpha(m_to, pos))\n",
    "        Q2 = lambda: Q(l, op) - op_old_weight\n",
    "        \n",
    "        # 0 w maxach po to, żeby mieć jakąś liczbę, gdy drogi nie istnieją\n",
    "        if pos == 0:\n",
    "            return max(R2(), 0) + max(Q1(), Q2(), 0) + op_old_weight\n",
    "        if pos == len(G.solution[k]):\n",
    "            return max(R1(), R2(), 0) + max(Q2(), 0) + op_old_weight\n",
    "        \n",
    "        maxR = max(R1(), R2(), 0)\n",
    "        maxQ = max(Q1(), Q2(), 0)\n",
    "        \n",
    "        return maxR + maxQ + op_old_weight # a może tu ma być op_new_weight?\n",
    "    \n",
    "    return max([LB(l) for l in xrange(len(solution))])\n",
    "\n",
    "# JUŻ NIEAKTUALNE:\n",
    "# co jeśli m_from == m_to (czy w ogóle może tak być?) - alpha(m_to, pos) może nie istnieć"
   ]
  },
  {
   "cell_type": "code",
   "execution_count": 5,
   "metadata": {
    "collapsed": false
   },
   "outputs": [],
   "source": [
    "n, m, problem = load_problem(\"instances/Barnes_mt10c1.fjs\")\n",
    "solution = load_solution(\"solutions/Barnes_mt10c1.txt\")\n",
    "\n",
    "G = Graph(n, m, problem, solution)\n",
    "G.graph[(3,1,4)].successors\n",
    "G.topological_sort()"
   ]
  },
  {
   "cell_type": "code",
   "execution_count": 6,
   "metadata": {
    "collapsed": false
   },
   "outputs": [
    {
     "data": {
      "text/plain": [
       "[(0, 2, 1), (0, 9, 2)]"
      ]
     },
     "execution_count": 6,
     "metadata": {},
     "output_type": "execute_result"
    }
   ],
   "source": [
    "G.graph[(0,9,1)].successors"
   ]
  },
  {
   "cell_type": "code",
   "execution_count": 13,
   "metadata": {
    "collapsed": false
   },
   "outputs": [
    {
     "data": {
      "text/plain": [
       "[(0, 7, 2), (0, 2, 2)]"
      ]
     },
     "execution_count": 13,
     "metadata": {},
     "output_type": "execute_result"
    }
   ],
   "source": [
    "G.graph[(0,2,1)].successors"
   ]
  },
  {
   "cell_type": "code",
   "execution_count": 14,
   "metadata": {
    "collapsed": false
   },
   "outputs": [
    {
     "data": {
      "text/plain": [
       "[(0, 10, 1), (0, 9, 1)]"
      ]
     },
     "execution_count": 14,
     "metadata": {},
     "output_type": "execute_result"
    }
   ],
   "source": [
    "G.graph[(0,9,2)].predecessors"
   ]
  },
  {
   "cell_type": "code",
   "execution_count": 16,
   "metadata": {
    "collapsed": false
   },
   "outputs": [
    {
     "data": {
      "text/plain": [
       "[(0, 7, 1)]"
      ]
     },
     "execution_count": 16,
     "metadata": {},
     "output_type": "execute_result"
    }
   ],
   "source": [
    "G.graph[(0,10,1)].predecessors"
   ]
  },
  {
   "cell_type": "code",
   "execution_count": 7,
   "metadata": {
    "collapsed": false
   },
   "outputs": [
    {
     "data": {
      "text/plain": [
       "1200"
      ]
     },
     "execution_count": 7,
     "metadata": {},
     "output_type": "execute_result"
    }
   ],
   "source": [
    "len(G.topological_order)"
   ]
  },
  {
   "cell_type": "code",
   "execution_count": 20,
   "metadata": {
    "collapsed": false
   },
   "outputs": [
    {
     "data": {
      "text/plain": [
       "195"
      ]
     },
     "execution_count": 20,
     "metadata": {},
     "output_type": "execute_result"
    }
   ],
   "source": [
    "G.longest_path_length((0,9,1), (0,2,1))"
   ]
  },
  {
   "cell_type": "code",
   "execution_count": 9,
   "metadata": {
    "collapsed": false
   },
   "outputs": [
    {
     "data": {
      "text/plain": [
       "[{1: 76, 11: 76},\n",
       " {2: 69},\n",
       " {4: 76},\n",
       " {6: 51},\n",
       " {3: 85},\n",
       " {10: 11},\n",
       " {7: 40},\n",
       " {8: 89},\n",
       " {5: 26},\n",
       " {9: 74}]"
      ]
     },
     "execution_count": 9,
     "metadata": {},
     "output_type": "execute_result"
    }
   ],
   "source": [
    "G.problem[8]"
   ]
  },
  {
   "cell_type": "code",
   "execution_count": null,
   "metadata": {
    "collapsed": true
   },
   "outputs": [],
   "source": []
  }
 ],
 "metadata": {
  "anaconda-cloud": {},
  "kernelspec": {
   "display_name": "Python [default]",
   "language": "python",
   "name": "python2"
  },
  "language_info": {
   "codemirror_mode": {
    "name": "ipython",
    "version": 2
   },
   "file_extension": ".py",
   "mimetype": "text/x-python",
   "name": "python",
   "nbconvert_exporter": "python",
   "pygments_lexer": "ipython2",
   "version": "2.7.12"
  }
 },
 "nbformat": 4,
 "nbformat_minor": 1
}
