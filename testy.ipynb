{
 "cells": [
  {
   "cell_type": "code",
   "execution_count": 1,
   "metadata": {
    "collapsed": true
   },
   "outputs": [],
   "source": [
    "from parsing import load_problem, load_solution\n",
    "from graph_representation import Graph\n",
    "import time"
   ]
  },
  {
   "cell_type": "code",
   "execution_count": 2,
   "metadata": {
    "collapsed": false
   },
   "outputs": [],
   "source": [
    "# weryfikuje poprawność sortowania\n",
    "def verify_toposort(T, G):\n",
    "    for i in xrange(len(T)):\n",
    "        v = T[i]\n",
    "        for s in G.graph[v].successors:\n",
    "            s = (v[0] + s[0],) + s[1:]\n",
    "            if s in T[:i]:\n",
    "                return False\n",
    "    return True"
   ]
  },
  {
   "cell_type": "code",
   "execution_count": 43,
   "metadata": {
    "collapsed": false
   },
   "outputs": [],
   "source": [
    "# m_from, m_to - skąd zabieramy, gdzie wsadzamy\n",
    "# op - zabierana operacja, para (nr_maszyny, nr_operacji)\n",
    "# pos - pozycja do wsadzenia op na maszynę m_to\n",
    "\n",
    "# tutaj numery maszyn idą od 0\n",
    "def lower_bound(G, m_from, op, m_to, pos):\n",
    "    def alpha(k,i):\n",
    "        assert i >= 0\n",
    "        if k != m_from or solution[k].index(op) > i:\n",
    "            return G.solution[k][i]\n",
    "        #print k, i\n",
    "        return G.solution[k][i+1]\n",
    "    \n",
    "    # jeśli longest_path nie istnieje, to powinien zwrócić None\n",
    "    # te drogi poniżej są zawarte w H1 (pierwszej składowej G), więc\n",
    "    # można by je liczyć trochę szybciej (tylko w H1)\n",
    "    \n",
    "    def R(k,opr):\n",
    "        return G.longest_path_length((0,) + alpha(k,0), (0,) + opr, justH1=True)\n",
    "    \n",
    "    def Q(k,opr):\n",
    "        last_op_k_idx = len(G.solution[k]) - 1\n",
    "        if k == m_from:\n",
    "            last_op_k_idx -= 1\n",
    "        return G.longest_path_length((0,) + opr, (0,) + alpha(k, last_op_k_idx), justH1=True)\n",
    "\n",
    "    def LB(l):\n",
    "        op_old_weight = G.graph[(0,) + op].weight\n",
    "        op_new_weight = G.problem[op[0]-1][op[1]-1][m_to+1]\n",
    "        \n",
    "        R1 = lambda: R(l, alpha(m_to, pos-1))\n",
    "        def R2():\n",
    "            r = R(l, op)\n",
    "            return r - op_old_weight if r is not None else None\n",
    "        Q1 = lambda: Q(l, alpha(m_to, pos))\n",
    "        def Q2():\n",
    "            q = Q(l, op)\n",
    "            return q - op_old_weight if q is not None else None \n",
    "        \n",
    "        # 0 w maxach po to, żeby mieć jakąś liczbę, gdy drogi nie istnieją\n",
    "        if pos == 0:\n",
    "            return max(R2(), 0) + max(Q1(), Q2(), 0) + op_new_weight\n",
    "                                     \n",
    "        len_m_to = len(G.solution[m_to])\n",
    "        if m_to == m_from:\n",
    "            len_m_to -= 1\n",
    "        if pos == len_m_to:\n",
    "            return max(R1(), R2(), 0) + max(Q2(), 0) + op_new_weight\n",
    "        \n",
    "        maxR = max(R1(), R2(), 0)\n",
    "        maxQ = max(Q1(), Q2(), 0)\n",
    "        \n",
    "        return maxR + maxQ + op_new_weight # a może tu ma być op_new_weight?\n",
    "    print [LB(l) for l in xrange(len(solution))]\n",
    "    return max([LB(l) for l in xrange(len(solution))])\n",
    "\n",
    "# JUŻ NIEAKTUALNE:\n",
    "# co jeśli m_from == m_to (czy w ogóle może tak być?) - alpha(m_to, pos) może nie istnieć"
   ]
  },
  {
   "cell_type": "code",
   "execution_count": 44,
   "metadata": {
    "collapsed": false
   },
   "outputs": [],
   "source": [
    "n, m, problem = load_problem(\"instances/Barnes_mt10c1.fjs\")\n",
    "solution = load_solution(\"solutions/Barnes_mt10c1.txt\")\n",
    "\n",
    "G = Graph(n, m, problem, solution)\n",
    "G.graph[(3,1,4)].successors\n",
    "G.topological_sort()"
   ]
  },
  {
   "cell_type": "code",
   "execution_count": 58,
   "metadata": {
    "collapsed": false
   },
   "outputs": [],
   "source": [
    "G.longest_path_length((0,9,1), (0,1,1))"
   ]
  },
  {
   "cell_type": "code",
   "execution_count": 45,
   "metadata": {
    "collapsed": false
   },
   "outputs": [
    {
     "name": "stdout",
     "output_type": "stream",
     "text": [
      "[386, 571, 512, 772, 843, 765, 818, 839, 834, 831, 76]\n"
     ]
    },
    {
     "data": {
      "text/plain": [
       "843"
      ]
     },
     "execution_count": 45,
     "metadata": {},
     "output_type": "execute_result"
    }
   ],
   "source": [
    "lower_bound(G, 0, (9,1), 0, 1)"
   ]
  }
 ],
 "metadata": {
  "anaconda-cloud": {},
  "kernelspec": {
   "display_name": "Python [default]",
   "language": "python",
   "name": "python2"
  },
  "language_info": {
   "codemirror_mode": {
    "name": "ipython",
    "version": 2
   },
   "file_extension": ".py",
   "mimetype": "text/x-python",
   "name": "python",
   "nbconvert_exporter": "python",
   "pygments_lexer": "ipython2",
   "version": "2.7.12"
  }
 },
 "nbformat": 4,
 "nbformat_minor": 1
}
