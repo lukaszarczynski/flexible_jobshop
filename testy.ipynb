{
 "cells": [
  {
   "cell_type": "code",
   "execution_count": 1,
   "metadata": {
    "collapsed": true
   },
   "outputs": [],
   "source": [
    "from parsing import load_problem, load_solution\n",
    "from graph_representation import Graph\n",
    "import time"
   ]
  },
  {
   "cell_type": "code",
   "execution_count": 2,
   "metadata": {
    "collapsed": false
   },
   "outputs": [],
   "source": [
    "# weryfikuje poprawność sortowania\n",
    "def verify_toposort(T, G):\n",
    "    for i in xrange(len(T)):\n",
    "        v = T[i]\n",
    "        for s in G.graph[v].successors:\n",
    "            s = (v[0] + s[0],) + s[1:]\n",
    "            if s in T[:i]:\n",
    "                return False\n",
    "    return True"
   ]
  },
  {
   "cell_type": "code",
   "execution_count": 3,
   "metadata": {
    "collapsed": true
   },
   "outputs": [],
   "source": [
    "# m_from, m_to - skąd zabieramy, gdzie wsadzamy\n",
    "# op - zabierana operacja, para (nr_maszyny, nr_operacji)\n",
    "# pos - pozycja do wsadzenia op na maszynę m_to\n",
    "\n",
    "# tutaj numery maszyn idą od 0\n",
    "def lower_bound(G, m_from, op, m_to, pos):\n",
    "    def alpha(k,i):\n",
    "        if k != m_from:\n",
    "            return G.solution[k][i]\n",
    "        if i < 0:\n",
    "            i += len(G.solution[k]) - 1\n",
    "        if solution[k].index(op) > i:\n",
    "            return G.solution[k][i]            \n",
    "        return G.solution[k][i+1]\n",
    "    \n",
    "    # jeśli longest_path nie istnieje, to powinien zwrócić None\n",
    "    # te drogi poniżej są zawarte w H1 (pierwszej składowej G), więc\n",
    "    # można by je liczyć trochę szybciej (tylko w H1)\n",
    "    \n",
    "    def R(k,opr):\n",
    "        return G.longest_path((0,) + alpha(k,1), (0,) + opr)\n",
    "    \n",
    "    def Q(k,opr):\n",
    "        return G.longest_path((0,) + opr, (0,) + alpha(k,-1))\n",
    "\n",
    "    def LB(l): # 0 po to, żeby mieć jakąś liczbę, gdy drogi nie istnieją\n",
    "        op_old_weight = G.graph[(0,) + op].weight\n",
    "        op_new_weight = G.problem[op[0]-1][op[1]-1][m_to]\n",
    "        \n",
    "        maxR = max(R(l, alpha(m_to, pos-1)), R(l, op) - op_old_weight, 0)\n",
    "        maxQ = max(Q(l, alpha(m_to, pos)),   Q(l, op) - op_old_weight, 0)\n",
    "        return maxR + maxQ + op_old_weight # a może tu ma być op_new_weight?\n",
    "    \n",
    "    return max([LB(l) for l in xrange(len(solution))])\n",
    "\n",
    "# co jeśli m_from == m_to (czy w ogóle może tak być?) - alpha(m_to, pos) może nie istnieć"
   ]
  },
  {
   "cell_type": "code",
   "execution_count": 4,
   "metadata": {
    "collapsed": false
   },
   "outputs": [
    {
     "data": {
      "text/plain": [
       "[(0, 2, 5), (0, 1, 5)]"
      ]
     },
     "execution_count": 4,
     "metadata": {},
     "output_type": "execute_result"
    }
   ],
   "source": [
    "n, m, problem = load_problem(\"instances/Barnes_mt10c1.fjs\")\n",
    "solution = load_solution(\"solutions/Barnes_mt10c1.txt\")\n",
    "\n",
    "G = Graph(n, m, problem, solution)\n",
    "G.graph[(3,1,4)].successors"
   ]
  },
  {
   "cell_type": "code",
   "execution_count": 6,
   "metadata": {
    "collapsed": false
   },
   "outputs": [
    {
     "data": {
      "text/plain": [
       "36"
      ]
     },
     "execution_count": 6,
     "metadata": {},
     "output_type": "execute_result"
    }
   ],
   "source": [
    "G.graph[(3,1,4)].weight"
   ]
  },
  {
   "cell_type": "code",
   "execution_count": 10,
   "metadata": {
    "collapsed": false
   },
   "outputs": [
    {
     "data": {
      "text/plain": [
       "120"
      ]
     },
     "execution_count": 10,
     "metadata": {},
     "output_type": "execute_result"
    }
   ],
   "source": [
    "len([s for s in G.vertices if s[1] == 1])"
   ]
  },
  {
   "cell_type": "code",
   "execution_count": null,
   "metadata": {
    "collapsed": true
   },
   "outputs": [],
   "source": []
  }
 ],
 "metadata": {
  "anaconda-cloud": {},
  "kernelspec": {
   "display_name": "Python [default]",
   "language": "python",
   "name": "python2"
  },
  "language_info": {
   "codemirror_mode": {
    "name": "ipython",
    "version": 2
   },
   "file_extension": ".py",
   "mimetype": "text/x-python",
   "name": "python",
   "nbconvert_exporter": "python",
   "pygments_lexer": "ipython2",
   "version": "2.7.12"
  }
 },
 "nbformat": 4,
 "nbformat_minor": 1
}
